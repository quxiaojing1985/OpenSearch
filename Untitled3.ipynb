{
  "nbformat": 4,
  "nbformat_minor": 0,
  "metadata": {
    "colab": {
      "name": "Untitled3.ipynb",
      "provenance": [],
      "collapsed_sections": [],
      "toc_visible": true,
      "authorship_tag": "ABX9TyPGH+BzfcX26SWSLCq2w8Zm",
      "include_colab_link": true
    },
    "kernelspec": {
      "name": "python3",
      "display_name": "Python 3"
    },
    "language_info": {
      "name": "python"
    }
  },
  "cells": [
    {
      "cell_type": "markdown",
      "metadata": {
        "id": "view-in-github",
        "colab_type": "text"
      },
      "source": [
        "<a href=\"https://colab.research.google.com/github/quxiaojing1985/OpenSearch/blob/main/Untitled3.ipynb\" target=\"_parent\"><img src=\"https://colab.research.google.com/assets/colab-badge.svg\" alt=\"Open In Colab\"/></a>"
      ]
    },
    {
      "cell_type": "code",
      "execution_count": 1,
      "metadata": {
        "colab": {
          "base_uri": "https://localhost:8080/"
        },
        "id": "YXihNjwbtoeQ",
        "outputId": "5916cd75-dbde-49f2-b599-d41fc901df3c"
      },
      "outputs": [
        {
          "output_type": "stream",
          "name": "stdout",
          "text": [
            "Looking in indexes: https://pypi.org/simple, https://us-python.pkg.dev/colab-wheels/public/simple/\n",
            "Looking in links: https://mlc.ai/wheels\n",
            "Collecting mlc-ai-nightly\n",
            "  Downloading https://github.com/mlc-ai/utils/releases/download/v0.9.dev0/mlc_ai_nightly-0.9.dev1956%2Bge3f218d71-cp37-cp37m-manylinux_2_17_x86_64.manylinux2014_x86_64.whl (44.2 MB)\n",
            "\u001b[K     |████████████████████████████████| 44.2 MB 657 kB/s \n",
            "\u001b[?25hRequirement already satisfied: scipy in /usr/local/lib/python3.7/dist-packages (from mlc-ai-nightly) (1.7.3)\n",
            "Requirement already satisfied: tornado in /usr/local/lib/python3.7/dist-packages (from mlc-ai-nightly) (5.1.1)\n",
            "Requirement already satisfied: cloudpickle in /usr/local/lib/python3.7/dist-packages (from mlc-ai-nightly) (1.3.0)\n",
            "Requirement already satisfied: decorator in /usr/local/lib/python3.7/dist-packages (from mlc-ai-nightly) (4.4.2)\n",
            "Requirement already satisfied: psutil in /usr/local/lib/python3.7/dist-packages (from mlc-ai-nightly) (5.4.8)\n",
            "Requirement already satisfied: Pygments in /usr/local/lib/python3.7/dist-packages (from mlc-ai-nightly) (2.6.1)\n",
            "Collecting synr==0.6.0\n",
            "  Downloading synr-0.6.0-py3-none-any.whl (18 kB)\n",
            "Requirement already satisfied: attrs in /usr/local/lib/python3.7/dist-packages (from mlc-ai-nightly) (22.1.0)\n",
            "Requirement already satisfied: numpy in /usr/local/lib/python3.7/dist-packages (from mlc-ai-nightly) (1.21.6)\n",
            "Installing collected packages: synr, mlc-ai-nightly\n",
            "Successfully installed mlc-ai-nightly-0.9.dev1956+ge3f218d71 synr-0.6.0\n"
          ]
        }
      ],
      "source": [
        "!python3 -m  pip install mlc-ai-nightly -f https://mlc.ai/wheels"
      ]
    },
    {
      "cell_type": "code",
      "source": [
        "import tvm\n",
        "from tvm.ir.module import IRModule\n",
        "from tvm.script import tir as T\n",
        "import numpy as np\n",
        "import IPython"
      ],
      "metadata": {
        "id": "zEBaO5kpt2mV"
      },
      "execution_count": 2,
      "outputs": []
    },
    {
      "cell_type": "code",
      "source": [
        "@tvm.script.ir_module\n",
        "class MyAdd:\n",
        "  @T.prim_func\n",
        "  def add(A: T.Buffer[(4, 4), \"int64\"],\n",
        "          B: T.Buffer[(4, 4), \"int64\"],\n",
        "          C: T.Buffer[(4, 4), \"int64\"]):\n",
        "    T.func_attr({\"global_symbol\": \"add\", \"tir.noalias\" : True})\n",
        "    for i, j in T.grid(4, 4):\n",
        "      with T.block(\"C\"):\n",
        "        vi = T.axis.spatial(4, i)\n",
        "        vj = T.axis.spatial(4, j)\n",
        "        C[vi, vj] = A[vi, vj] + B[vi, vj]\n",
        "\n",
        "sch =  tvm.tir.Schedule(MyAdd)\n",
        "block = sch.get_block(\"C\", func_name = \"add\")\n",
        "i,j = sch.get_loops(block)\n",
        "i0, i1 = sch.split(i, factors = [2,2])\n",
        "sch.parallel(i0)\n",
        "sch.unroll(i1)\n",
        "sch.vectorize(j)\n"
      ],
      "metadata": {
        "id": "Nszs_xlut5CP"
      },
      "execution_count": 3,
      "outputs": []
    },
    {
      "cell_type": "code",
      "source": [
        "import IPython\n",
        "\n",
        "def code2html(code):\n",
        "    \"\"\"Helper function to use pygments to turn the code string into highlighted html.\"\"\"\n",
        "    import pygments\n",
        "    from pygments.lexers import Python3Lexer\n",
        "    from pygments.formatters import HtmlFormatter\n",
        "    formatter = HtmlFormatter()\n",
        "    html = pygments.highlight(code, Python3Lexer(), formatter)\n",
        "    return \"<style>%s</style>%s\\n\" % (formatter.get_style_defs(\".highlight\"), html)"
      ],
      "metadata": {
        "id": "h1fU3zDHv7AN"
      },
      "execution_count": 4,
      "outputs": []
    },
    {
      "cell_type": "code",
      "source": [
        "IPython.display.HTML(code2html(sch.mod.script()))"
      ],
      "metadata": {
        "colab": {
          "base_uri": "https://localhost:8080/",
          "height": 349
        },
        "id": "zOJ53rM_wZa3",
        "outputId": "b029b4f5-821f-4226-911b-86430fed7741"
      },
      "execution_count": 5,
      "outputs": [
        {
          "output_type": "execute_result",
          "data": {
            "text/plain": [
              "<IPython.core.display.HTML object>"
            ],
            "text/html": [
              "<style>.highlight .hll { background-color: #ffffcc }\n",
              ".highlight  { background: #f8f8f8; }\n",
              ".highlight .c { color: #408080; font-style: italic } /* Comment */\n",
              ".highlight .err { border: 1px solid #FF0000 } /* Error */\n",
              ".highlight .k { color: #008000; font-weight: bold } /* Keyword */\n",
              ".highlight .o { color: #666666 } /* Operator */\n",
              ".highlight .ch { color: #408080; font-style: italic } /* Comment.Hashbang */\n",
              ".highlight .cm { color: #408080; font-style: italic } /* Comment.Multiline */\n",
              ".highlight .cp { color: #BC7A00 } /* Comment.Preproc */\n",
              ".highlight .cpf { color: #408080; font-style: italic } /* Comment.PreprocFile */\n",
              ".highlight .c1 { color: #408080; font-style: italic } /* Comment.Single */\n",
              ".highlight .cs { color: #408080; font-style: italic } /* Comment.Special */\n",
              ".highlight .gd { color: #A00000 } /* Generic.Deleted */\n",
              ".highlight .ge { font-style: italic } /* Generic.Emph */\n",
              ".highlight .gr { color: #FF0000 } /* Generic.Error */\n",
              ".highlight .gh { color: #000080; font-weight: bold } /* Generic.Heading */\n",
              ".highlight .gi { color: #00A000 } /* Generic.Inserted */\n",
              ".highlight .go { color: #888888 } /* Generic.Output */\n",
              ".highlight .gp { color: #000080; font-weight: bold } /* Generic.Prompt */\n",
              ".highlight .gs { font-weight: bold } /* Generic.Strong */\n",
              ".highlight .gu { color: #800080; font-weight: bold } /* Generic.Subheading */\n",
              ".highlight .gt { color: #0044DD } /* Generic.Traceback */\n",
              ".highlight .kc { color: #008000; font-weight: bold } /* Keyword.Constant */\n",
              ".highlight .kd { color: #008000; font-weight: bold } /* Keyword.Declaration */\n",
              ".highlight .kn { color: #008000; font-weight: bold } /* Keyword.Namespace */\n",
              ".highlight .kp { color: #008000 } /* Keyword.Pseudo */\n",
              ".highlight .kr { color: #008000; font-weight: bold } /* Keyword.Reserved */\n",
              ".highlight .kt { color: #B00040 } /* Keyword.Type */\n",
              ".highlight .m { color: #666666 } /* Literal.Number */\n",
              ".highlight .s { color: #BA2121 } /* Literal.String */\n",
              ".highlight .na { color: #7D9029 } /* Name.Attribute */\n",
              ".highlight .nb { color: #008000 } /* Name.Builtin */\n",
              ".highlight .nc { color: #0000FF; font-weight: bold } /* Name.Class */\n",
              ".highlight .no { color: #880000 } /* Name.Constant */\n",
              ".highlight .nd { color: #AA22FF } /* Name.Decorator */\n",
              ".highlight .ni { color: #999999; font-weight: bold } /* Name.Entity */\n",
              ".highlight .ne { color: #D2413A; font-weight: bold } /* Name.Exception */\n",
              ".highlight .nf { color: #0000FF } /* Name.Function */\n",
              ".highlight .nl { color: #A0A000 } /* Name.Label */\n",
              ".highlight .nn { color: #0000FF; font-weight: bold } /* Name.Namespace */\n",
              ".highlight .nt { color: #008000; font-weight: bold } /* Name.Tag */\n",
              ".highlight .nv { color: #19177C } /* Name.Variable */\n",
              ".highlight .ow { color: #AA22FF; font-weight: bold } /* Operator.Word */\n",
              ".highlight .w { color: #bbbbbb } /* Text.Whitespace */\n",
              ".highlight .mb { color: #666666 } /* Literal.Number.Bin */\n",
              ".highlight .mf { color: #666666 } /* Literal.Number.Float */\n",
              ".highlight .mh { color: #666666 } /* Literal.Number.Hex */\n",
              ".highlight .mi { color: #666666 } /* Literal.Number.Integer */\n",
              ".highlight .mo { color: #666666 } /* Literal.Number.Oct */\n",
              ".highlight .sa { color: #BA2121 } /* Literal.String.Affix */\n",
              ".highlight .sb { color: #BA2121 } /* Literal.String.Backtick */\n",
              ".highlight .sc { color: #BA2121 } /* Literal.String.Char */\n",
              ".highlight .dl { color: #BA2121 } /* Literal.String.Delimiter */\n",
              ".highlight .sd { color: #BA2121; font-style: italic } /* Literal.String.Doc */\n",
              ".highlight .s2 { color: #BA2121 } /* Literal.String.Double */\n",
              ".highlight .se { color: #BB6622; font-weight: bold } /* Literal.String.Escape */\n",
              ".highlight .sh { color: #BA2121 } /* Literal.String.Heredoc */\n",
              ".highlight .si { color: #BB6688; font-weight: bold } /* Literal.String.Interpol */\n",
              ".highlight .sx { color: #008000 } /* Literal.String.Other */\n",
              ".highlight .sr { color: #BB6688 } /* Literal.String.Regex */\n",
              ".highlight .s1 { color: #BA2121 } /* Literal.String.Single */\n",
              ".highlight .ss { color: #19177C } /* Literal.String.Symbol */\n",
              ".highlight .bp { color: #008000 } /* Name.Builtin.Pseudo */\n",
              ".highlight .fm { color: #0000FF } /* Name.Function.Magic */\n",
              ".highlight .vc { color: #19177C } /* Name.Variable.Class */\n",
              ".highlight .vg { color: #19177C } /* Name.Variable.Global */\n",
              ".highlight .vi { color: #19177C } /* Name.Variable.Instance */\n",
              ".highlight .vm { color: #19177C } /* Name.Variable.Magic */\n",
              ".highlight .il { color: #666666 } /* Literal.Number.Integer.Long */</style><div class=\"highlight\"><pre><span></span><span class=\"nd\">@tvm</span><span class=\"o\">.</span><span class=\"n\">script</span><span class=\"o\">.</span><span class=\"n\">ir_module</span>\n",
              "<span class=\"k\">class</span> <span class=\"nc\">Module</span><span class=\"p\">:</span>\n",
              "    <span class=\"nd\">@T</span><span class=\"o\">.</span><span class=\"n\">prim_func</span>\n",
              "    <span class=\"k\">def</span> <span class=\"nf\">add</span><span class=\"p\">(</span><span class=\"n\">A</span><span class=\"p\">:</span> <span class=\"n\">T</span><span class=\"o\">.</span><span class=\"n\">Buffer</span><span class=\"p\">[(</span><span class=\"mi\">4</span><span class=\"p\">,</span> <span class=\"mi\">4</span><span class=\"p\">),</span> <span class=\"s2\">&quot;int64&quot;</span><span class=\"p\">],</span> <span class=\"n\">B</span><span class=\"p\">:</span> <span class=\"n\">T</span><span class=\"o\">.</span><span class=\"n\">Buffer</span><span class=\"p\">[(</span><span class=\"mi\">4</span><span class=\"p\">,</span> <span class=\"mi\">4</span><span class=\"p\">),</span> <span class=\"s2\">&quot;int64&quot;</span><span class=\"p\">],</span> <span class=\"n\">C</span><span class=\"p\">:</span> <span class=\"n\">T</span><span class=\"o\">.</span><span class=\"n\">Buffer</span><span class=\"p\">[(</span><span class=\"mi\">4</span><span class=\"p\">,</span> <span class=\"mi\">4</span><span class=\"p\">),</span> <span class=\"s2\">&quot;int64&quot;</span><span class=\"p\">])</span> <span class=\"o\">-&gt;</span> <span class=\"kc\">None</span><span class=\"p\">:</span>\n",
              "        <span class=\"c1\"># function attr dict</span>\n",
              "        <span class=\"n\">T</span><span class=\"o\">.</span><span class=\"n\">func_attr</span><span class=\"p\">({</span><span class=\"s2\">&quot;global_symbol&quot;</span><span class=\"p\">:</span> <span class=\"s2\">&quot;add&quot;</span><span class=\"p\">,</span> <span class=\"s2\">&quot;tir.noalias&quot;</span><span class=\"p\">:</span> <span class=\"kc\">True</span><span class=\"p\">})</span>\n",
              "        <span class=\"c1\"># body</span>\n",
              "        <span class=\"c1\"># with T.block(&quot;root&quot;)</span>\n",
              "        <span class=\"k\">for</span> <span class=\"n\">i_0</span> <span class=\"ow\">in</span> <span class=\"n\">T</span><span class=\"o\">.</span><span class=\"n\">parallel</span><span class=\"p\">(</span><span class=\"mi\">2</span><span class=\"p\">):</span>\n",
              "            <span class=\"k\">for</span> <span class=\"n\">i_1</span> <span class=\"ow\">in</span> <span class=\"n\">T</span><span class=\"o\">.</span><span class=\"n\">unroll</span><span class=\"p\">(</span><span class=\"mi\">2</span><span class=\"p\">):</span>\n",
              "                <span class=\"k\">for</span> <span class=\"n\">j</span> <span class=\"ow\">in</span> <span class=\"n\">T</span><span class=\"o\">.</span><span class=\"n\">vectorized</span><span class=\"p\">(</span><span class=\"mi\">4</span><span class=\"p\">):</span>\n",
              "                    <span class=\"k\">with</span> <span class=\"n\">T</span><span class=\"o\">.</span><span class=\"n\">block</span><span class=\"p\">(</span><span class=\"s2\">&quot;C&quot;</span><span class=\"p\">):</span>\n",
              "                        <span class=\"n\">vi</span> <span class=\"o\">=</span> <span class=\"n\">T</span><span class=\"o\">.</span><span class=\"n\">axis</span><span class=\"o\">.</span><span class=\"n\">spatial</span><span class=\"p\">(</span><span class=\"mi\">4</span><span class=\"p\">,</span> <span class=\"n\">i_0</span> <span class=\"o\">*</span> <span class=\"mi\">2</span> <span class=\"o\">+</span> <span class=\"n\">i_1</span><span class=\"p\">)</span>\n",
              "                        <span class=\"n\">vj</span> <span class=\"o\">=</span> <span class=\"n\">T</span><span class=\"o\">.</span><span class=\"n\">axis</span><span class=\"o\">.</span><span class=\"n\">spatial</span><span class=\"p\">(</span><span class=\"mi\">4</span><span class=\"p\">,</span> <span class=\"n\">j</span><span class=\"p\">)</span>\n",
              "                        <span class=\"n\">T</span><span class=\"o\">.</span><span class=\"n\">reads</span><span class=\"p\">(</span><span class=\"n\">A</span><span class=\"p\">[</span><span class=\"n\">vi</span><span class=\"p\">,</span> <span class=\"n\">vj</span><span class=\"p\">],</span> <span class=\"n\">B</span><span class=\"p\">[</span><span class=\"n\">vi</span><span class=\"p\">,</span> <span class=\"n\">vj</span><span class=\"p\">])</span>\n",
              "                        <span class=\"n\">T</span><span class=\"o\">.</span><span class=\"n\">writes</span><span class=\"p\">(</span><span class=\"n\">C</span><span class=\"p\">[</span><span class=\"n\">vi</span><span class=\"p\">,</span> <span class=\"n\">vj</span><span class=\"p\">])</span>\n",
              "                        <span class=\"n\">C</span><span class=\"p\">[</span><span class=\"n\">vi</span><span class=\"p\">,</span> <span class=\"n\">vj</span><span class=\"p\">]</span> <span class=\"o\">=</span> <span class=\"n\">A</span><span class=\"p\">[</span><span class=\"n\">vi</span><span class=\"p\">,</span> <span class=\"n\">vj</span><span class=\"p\">]</span> <span class=\"o\">+</span> <span class=\"n\">B</span><span class=\"p\">[</span><span class=\"n\">vi</span><span class=\"p\">,</span> <span class=\"n\">vj</span><span class=\"p\">]</span>\n",
              "    \n",
              "</pre></div>\n",
              "\n"
            ]
          },
          "metadata": {},
          "execution_count": 5
        }
      ]
    },
    {
      "cell_type": "markdown",
      "source": [
        "2.5.2.2 练习3：变批量矩阵乘法程序"
      ],
      "metadata": {
        "id": "fJJVzGyDyTZh"
      }
    },
    {
      "cell_type": "code",
      "source": [
        "def lnumpy_mm_relu_v2(A: np.ndarray, B:np.ndarray, C:np.ndarray):\n",
        "  Y =  np.empty((16, 128, 128), dtype=\"float32\")\n",
        "  for n in range(16):\n",
        "    for i in range(128):\n",
        "      for j in range(128):\n",
        "        for k in range(128):\n",
        "          if k == 0:\n",
        "            Y[n,i, j] = 0\n",
        "          Y[n, i, j] = Y[n, i, j] + A[n, i, k] * B[n, k, j]\n",
        "  for n in range(16):\n",
        "    for i in range(128):\n",
        "      for j in range(128):\n",
        "        C[n, i, j] = max(Y[n, i, j], 0)"
      ],
      "metadata": {
        "id": "YYawiCEwycO9"
      },
      "execution_count": 16,
      "outputs": []
    },
    {
      "cell_type": "markdown",
      "source": [
        "tvm 版本"
      ],
      "metadata": {
        "id": "luyR6KBszjQF"
      }
    },
    {
      "cell_type": "code",
      "source": [
        "@tvm.script.ir_module\n",
        "class MyBmmRelu:\n",
        "  @T.prim_func\n",
        "  def bmm_relu(A: T.Buffer[(16, 128, 128), \"float32\"],\n",
        "               B: T.Buffer[(16, 128, 128), \"float32\"],\n",
        "               C: T.Buffer[(16, 128, 128), \"float32\"]):\n",
        "    T.func_attr({\"global_symbol\" : \"bmm_relu\", \"tir.noalias\" : True})\n",
        "    Y = T.alloc_buffer([16, 128,128], dtype= \"float32\")\n",
        "    for n, i, j, k in T.grid(16, 128, 128, 128):\n",
        "      with T.block(\"Y\"):\n",
        "        vn, vi, vj, vk = T.axis.remap(\"SSSR\", [n, i, j, k])\n",
        "        with T.init():\n",
        "          Y[vn, vi, vj] = T.float32(0)\n",
        "        Y[vn, vi, vj] = Y[vn, vi, vj] + A[vn, vi, vk]* B[vn, vk, vj]\n",
        "    for n, i, j in T.grid(16, 128, 128):\n",
        "      with T.block(\"C\"):\n",
        "        vn, vi, vj = T.axis.remap(\"SSS\", [n, i, j])\n",
        "        C[vn, vi, vj] = T.max(Y[vn, vi, vj], T.float32(0))\n",
        "         \n",
        "\n",
        "\n"
      ],
      "metadata": {
        "id": "oytnK3F2zllT"
      },
      "execution_count": 7,
      "outputs": []
    },
    {
      "cell_type": "markdown",
      "source": [
        "添加测试程序，测试一下tvm版本和numpy版本的代码是否结果一致"
      ],
      "metadata": {
        "id": "lYawi0fsubzo"
      }
    },
    {
      "cell_type": "code",
      "source": [
        "a_np = np.random.rand(16, 128, 128).astype(\"float32\")\n",
        "b_np = np.random.rand(16, 128, 128).astype(\"float32\")\n",
        "c_np = np.empty((16, 128, 128), dtype= np.float32)\n",
        "lnumpy_mm_relu_v2(a_np, b_np, c_np)\n"
      ],
      "metadata": {
        "id": "mtKtq-oSh4w0"
      },
      "execution_count": 19,
      "outputs": []
    },
    {
      "cell_type": "code",
      "source": [
        "a_tvm=tvm.nd.array(a_np)\n",
        "b_tvm = tvm.nd.array(b_np)\n",
        "c_tvm = tvm.nd.array(np.empty((16, 128, 128), dtype = np.float32))\n",
        "rt_lib = tvm.build(MyBmmRelu, target=\"llvm\")\n",
        "rt_lib[\"bmm_relu\"](a_tvm, b_tvm, c_tvm)\n",
        "np.testing.assert_allclose(c_tvm.numpy(), c_np, rtol=1e-5)"
      ],
      "metadata": {
        "id": "GdQrSV6mstgp"
      },
      "execution_count": 23,
      "outputs": []
    },
    {
      "cell_type": "markdown",
      "source": [
        "目标程序如下："
      ],
      "metadata": {
        "id": "MVsuzFaz29O6"
      }
    },
    {
      "cell_type": "code",
      "source": [
        "@tvm.script.ir_module\n",
        "class TargetModule:\n",
        "    @T.prim_func\n",
        "    def bmm_relu(A: T.Buffer[(16, 128, 128), \"float32\"], B: T.Buffer[(16, 128, 128), \"float32\"], C: T.Buffer[(16, 128, 128), \"float32\"]) -> None:\n",
        "        T.func_attr({\"global_symbol\": \"bmm_relu\", \"tir.noalias\": True})\n",
        "        Y = T.alloc_buffer([16, 128, 128], dtype=\"float32\")\n",
        "        for i0 in T.parallel(16):\n",
        "            for i1, i2_0 in T.grid(128, 16):\n",
        "                for ax0_init in T.vectorized(8):\n",
        "                    with T.block(\"Y_init\"):\n",
        "                        n, i = T.axis.remap(\"SS\", [i0, i1])\n",
        "                        j = T.axis.spatial(128, i2_0 * 8 + ax0_init)\n",
        "                        Y[n, i, j] = T.float32(0)\n",
        "                for ax1_0 in T.serial(32):\n",
        "                    for ax1_1 in T.unroll(4):\n",
        "                        for ax0 in T.serial(8):\n",
        "                            with T.block(\"Y_update\"):\n",
        "                                n, i = T.axis.remap(\"SS\", [i0, i1])\n",
        "                                j = T.axis.spatial(128, i2_0 * 8 + ax0)\n",
        "                                k = T.axis.reduce(128, ax1_0 * 4 + ax1_1)\n",
        "                                Y[n, i, j] = Y[n, i, j] + A[n, i, k] * B[n, k, j]\n",
        "                for i2_1 in T.vectorized(8):\n",
        "                    with T.block(\"C\"):\n",
        "                        n, i = T.axis.remap(\"SS\", [i0, i1])\n",
        "                        j = T.axis.spatial(128, i2_0 * 8 + i2_1)\n",
        "                        C[n, i, j] = T.max(Y[n, i, j], T.float32(0))"
      ],
      "metadata": {
        "id": "6cFLC0wV275-"
      },
      "execution_count": 61,
      "outputs": []
    },
    {
      "cell_type": "markdown",
      "source": [
        "变化的过程"
      ],
      "metadata": {
        "id": "5rGcFXEQ3Ezd"
      }
    },
    {
      "cell_type": "code",
      "source": [
        "sch = tvm.tir.Schedule(MyBmmRelu)\n",
        "\n",
        "# Step 1. Get blocks\n",
        "Y = sch.get_block(\"Y\", func_name=\"bmm_relu\")\n",
        "\n",
        "# Step 2. Get loops\n",
        "b, i, j, k = sch.get_loops(Y)\n",
        "j0, j1 = sch.split(j, factors=[None, 8])\n",
        "\n",
        "#step  3.\n",
        "k0, k1 = sch.split(k, factors = [None, 4])\n",
        "sch.reorder(k0, k1, j1)\n",
        "sch.parallel(b)\n",
        "sch.decompose_reduction(Y, k0)\n",
        "\n",
        "\n",
        "\n",
        "block_C = sch.get_block(\"C\",func_name=\"bmm_relu\")\n",
        "sch.reverse_compute_at(block_C, j0)\n",
        "\n",
        "Y_init = sch.get_block(\"Y_init\", func_name=\"bmm_relu\")\n",
        "b, i, j0, j1 = sch.get_loops(Y_init)\n",
        "sch.vectorize(j1)\n",
        "\n",
        "C = sch.get_block(\"C\", func_name = \"bmm_relu\")\n",
        "b, i, j0, j1 = sch.get_loops(C)\n",
        "sch.vectorize(j1)\n",
        "sch.unroll(k1)\n",
        "tvm.ir.assert_structural_equal(sch.mod, TargetModule)\n",
        "print(\"Pass\")\n",
        "\n",
        "\n"
      ],
      "metadata": {
        "id": "PPPQMq9z3Dkg",
        "colab": {
          "base_uri": "https://localhost:8080/"
        },
        "outputId": "0680f521-481f-44b6-93c9-ab7e626408f0"
      },
      "execution_count": 75,
      "outputs": [
        {
          "output_type": "stream",
          "name": "stdout",
          "text": [
            "Pass\n"
          ]
        }
      ]
    },
    {
      "cell_type": "code",
      "source": [
        "IPython.display.HTML(code2html(sch.mod.script()))"
      ],
      "metadata": {
        "colab": {
          "base_uri": "https://localhost:8080/",
          "height": 662
        },
        "id": "gR1qXPS1ZOCR",
        "outputId": "17b22d2a-0b26-49ce-f7bc-76c4f3580f0c"
      },
      "execution_count": 73,
      "outputs": [
        {
          "output_type": "execute_result",
          "data": {
            "text/plain": [
              "<IPython.core.display.HTML object>"
            ],
            "text/html": [
              "<style>.highlight .hll { background-color: #ffffcc }\n",
              ".highlight  { background: #f8f8f8; }\n",
              ".highlight .c { color: #408080; font-style: italic } /* Comment */\n",
              ".highlight .err { border: 1px solid #FF0000 } /* Error */\n",
              ".highlight .k { color: #008000; font-weight: bold } /* Keyword */\n",
              ".highlight .o { color: #666666 } /* Operator */\n",
              ".highlight .ch { color: #408080; font-style: italic } /* Comment.Hashbang */\n",
              ".highlight .cm { color: #408080; font-style: italic } /* Comment.Multiline */\n",
              ".highlight .cp { color: #BC7A00 } /* Comment.Preproc */\n",
              ".highlight .cpf { color: #408080; font-style: italic } /* Comment.PreprocFile */\n",
              ".highlight .c1 { color: #408080; font-style: italic } /* Comment.Single */\n",
              ".highlight .cs { color: #408080; font-style: italic } /* Comment.Special */\n",
              ".highlight .gd { color: #A00000 } /* Generic.Deleted */\n",
              ".highlight .ge { font-style: italic } /* Generic.Emph */\n",
              ".highlight .gr { color: #FF0000 } /* Generic.Error */\n",
              ".highlight .gh { color: #000080; font-weight: bold } /* Generic.Heading */\n",
              ".highlight .gi { color: #00A000 } /* Generic.Inserted */\n",
              ".highlight .go { color: #888888 } /* Generic.Output */\n",
              ".highlight .gp { color: #000080; font-weight: bold } /* Generic.Prompt */\n",
              ".highlight .gs { font-weight: bold } /* Generic.Strong */\n",
              ".highlight .gu { color: #800080; font-weight: bold } /* Generic.Subheading */\n",
              ".highlight .gt { color: #0044DD } /* Generic.Traceback */\n",
              ".highlight .kc { color: #008000; font-weight: bold } /* Keyword.Constant */\n",
              ".highlight .kd { color: #008000; font-weight: bold } /* Keyword.Declaration */\n",
              ".highlight .kn { color: #008000; font-weight: bold } /* Keyword.Namespace */\n",
              ".highlight .kp { color: #008000 } /* Keyword.Pseudo */\n",
              ".highlight .kr { color: #008000; font-weight: bold } /* Keyword.Reserved */\n",
              ".highlight .kt { color: #B00040 } /* Keyword.Type */\n",
              ".highlight .m { color: #666666 } /* Literal.Number */\n",
              ".highlight .s { color: #BA2121 } /* Literal.String */\n",
              ".highlight .na { color: #7D9029 } /* Name.Attribute */\n",
              ".highlight .nb { color: #008000 } /* Name.Builtin */\n",
              ".highlight .nc { color: #0000FF; font-weight: bold } /* Name.Class */\n",
              ".highlight .no { color: #880000 } /* Name.Constant */\n",
              ".highlight .nd { color: #AA22FF } /* Name.Decorator */\n",
              ".highlight .ni { color: #999999; font-weight: bold } /* Name.Entity */\n",
              ".highlight .ne { color: #D2413A; font-weight: bold } /* Name.Exception */\n",
              ".highlight .nf { color: #0000FF } /* Name.Function */\n",
              ".highlight .nl { color: #A0A000 } /* Name.Label */\n",
              ".highlight .nn { color: #0000FF; font-weight: bold } /* Name.Namespace */\n",
              ".highlight .nt { color: #008000; font-weight: bold } /* Name.Tag */\n",
              ".highlight .nv { color: #19177C } /* Name.Variable */\n",
              ".highlight .ow { color: #AA22FF; font-weight: bold } /* Operator.Word */\n",
              ".highlight .w { color: #bbbbbb } /* Text.Whitespace */\n",
              ".highlight .mb { color: #666666 } /* Literal.Number.Bin */\n",
              ".highlight .mf { color: #666666 } /* Literal.Number.Float */\n",
              ".highlight .mh { color: #666666 } /* Literal.Number.Hex */\n",
              ".highlight .mi { color: #666666 } /* Literal.Number.Integer */\n",
              ".highlight .mo { color: #666666 } /* Literal.Number.Oct */\n",
              ".highlight .sa { color: #BA2121 } /* Literal.String.Affix */\n",
              ".highlight .sb { color: #BA2121 } /* Literal.String.Backtick */\n",
              ".highlight .sc { color: #BA2121 } /* Literal.String.Char */\n",
              ".highlight .dl { color: #BA2121 } /* Literal.String.Delimiter */\n",
              ".highlight .sd { color: #BA2121; font-style: italic } /* Literal.String.Doc */\n",
              ".highlight .s2 { color: #BA2121 } /* Literal.String.Double */\n",
              ".highlight .se { color: #BB6622; font-weight: bold } /* Literal.String.Escape */\n",
              ".highlight .sh { color: #BA2121 } /* Literal.String.Heredoc */\n",
              ".highlight .si { color: #BB6688; font-weight: bold } /* Literal.String.Interpol */\n",
              ".highlight .sx { color: #008000 } /* Literal.String.Other */\n",
              ".highlight .sr { color: #BB6688 } /* Literal.String.Regex */\n",
              ".highlight .s1 { color: #BA2121 } /* Literal.String.Single */\n",
              ".highlight .ss { color: #19177C } /* Literal.String.Symbol */\n",
              ".highlight .bp { color: #008000 } /* Name.Builtin.Pseudo */\n",
              ".highlight .fm { color: #0000FF } /* Name.Function.Magic */\n",
              ".highlight .vc { color: #19177C } /* Name.Variable.Class */\n",
              ".highlight .vg { color: #19177C } /* Name.Variable.Global */\n",
              ".highlight .vi { color: #19177C } /* Name.Variable.Instance */\n",
              ".highlight .vm { color: #19177C } /* Name.Variable.Magic */\n",
              ".highlight .il { color: #666666 } /* Literal.Number.Integer.Long */</style><div class=\"highlight\"><pre><span></span><span class=\"nd\">@tvm</span><span class=\"o\">.</span><span class=\"n\">script</span><span class=\"o\">.</span><span class=\"n\">ir_module</span>\n",
              "<span class=\"k\">class</span> <span class=\"nc\">Module</span><span class=\"p\">:</span>\n",
              "    <span class=\"nd\">@T</span><span class=\"o\">.</span><span class=\"n\">prim_func</span>\n",
              "    <span class=\"k\">def</span> <span class=\"nf\">bmm_relu</span><span class=\"p\">(</span><span class=\"n\">A</span><span class=\"p\">:</span> <span class=\"n\">T</span><span class=\"o\">.</span><span class=\"n\">Buffer</span><span class=\"p\">[(</span><span class=\"mi\">16</span><span class=\"p\">,</span> <span class=\"mi\">128</span><span class=\"p\">,</span> <span class=\"mi\">128</span><span class=\"p\">),</span> <span class=\"s2\">&quot;float32&quot;</span><span class=\"p\">],</span> <span class=\"n\">B</span><span class=\"p\">:</span> <span class=\"n\">T</span><span class=\"o\">.</span><span class=\"n\">Buffer</span><span class=\"p\">[(</span><span class=\"mi\">16</span><span class=\"p\">,</span> <span class=\"mi\">128</span><span class=\"p\">,</span> <span class=\"mi\">128</span><span class=\"p\">),</span> <span class=\"s2\">&quot;float32&quot;</span><span class=\"p\">],</span> <span class=\"n\">C</span><span class=\"p\">:</span> <span class=\"n\">T</span><span class=\"o\">.</span><span class=\"n\">Buffer</span><span class=\"p\">[(</span><span class=\"mi\">16</span><span class=\"p\">,</span> <span class=\"mi\">128</span><span class=\"p\">,</span> <span class=\"mi\">128</span><span class=\"p\">),</span> <span class=\"s2\">&quot;float32&quot;</span><span class=\"p\">])</span> <span class=\"o\">-&gt;</span> <span class=\"kc\">None</span><span class=\"p\">:</span>\n",
              "        <span class=\"c1\"># function attr dict</span>\n",
              "        <span class=\"n\">T</span><span class=\"o\">.</span><span class=\"n\">func_attr</span><span class=\"p\">({</span><span class=\"s2\">&quot;global_symbol&quot;</span><span class=\"p\">:</span> <span class=\"s2\">&quot;bmm_relu&quot;</span><span class=\"p\">,</span> <span class=\"s2\">&quot;tir.noalias&quot;</span><span class=\"p\">:</span> <span class=\"kc\">True</span><span class=\"p\">})</span>\n",
              "        <span class=\"c1\"># body</span>\n",
              "        <span class=\"c1\"># with T.block(&quot;root&quot;)</span>\n",
              "        <span class=\"n\">Y</span> <span class=\"o\">=</span> <span class=\"n\">T</span><span class=\"o\">.</span><span class=\"n\">alloc_buffer</span><span class=\"p\">([</span><span class=\"mi\">16</span><span class=\"p\">,</span> <span class=\"mi\">128</span><span class=\"p\">,</span> <span class=\"mi\">128</span><span class=\"p\">],</span> <span class=\"n\">dtype</span><span class=\"o\">=</span><span class=\"s2\">&quot;float32&quot;</span><span class=\"p\">)</span>\n",
              "        <span class=\"k\">for</span> <span class=\"n\">i0</span> <span class=\"ow\">in</span> <span class=\"n\">T</span><span class=\"o\">.</span><span class=\"n\">parallel</span><span class=\"p\">(</span><span class=\"mi\">16</span><span class=\"p\">):</span>\n",
              "            <span class=\"k\">for</span> <span class=\"n\">i1</span><span class=\"p\">,</span> <span class=\"n\">i2_0</span> <span class=\"ow\">in</span> <span class=\"n\">T</span><span class=\"o\">.</span><span class=\"n\">grid</span><span class=\"p\">(</span><span class=\"mi\">128</span><span class=\"p\">,</span> <span class=\"mi\">16</span><span class=\"p\">):</span>\n",
              "                <span class=\"k\">for</span> <span class=\"n\">i2_1_init</span> <span class=\"ow\">in</span> <span class=\"n\">T</span><span class=\"o\">.</span><span class=\"n\">vectorized</span><span class=\"p\">(</span><span class=\"mi\">8</span><span class=\"p\">):</span>\n",
              "                    <span class=\"k\">with</span> <span class=\"n\">T</span><span class=\"o\">.</span><span class=\"n\">block</span><span class=\"p\">(</span><span class=\"s2\">&quot;Y_init&quot;</span><span class=\"p\">):</span>\n",
              "                        <span class=\"n\">n</span><span class=\"p\">,</span> <span class=\"n\">i</span> <span class=\"o\">=</span> <span class=\"n\">T</span><span class=\"o\">.</span><span class=\"n\">axis</span><span class=\"o\">.</span><span class=\"n\">remap</span><span class=\"p\">(</span><span class=\"s2\">&quot;SS&quot;</span><span class=\"p\">,</span> <span class=\"p\">[</span><span class=\"n\">i0</span><span class=\"p\">,</span> <span class=\"n\">i1</span><span class=\"p\">])</span>\n",
              "                        <span class=\"n\">j</span> <span class=\"o\">=</span> <span class=\"n\">T</span><span class=\"o\">.</span><span class=\"n\">axis</span><span class=\"o\">.</span><span class=\"n\">spatial</span><span class=\"p\">(</span><span class=\"mi\">128</span><span class=\"p\">,</span> <span class=\"n\">i2_0</span> <span class=\"o\">*</span> <span class=\"mi\">8</span> <span class=\"o\">+</span> <span class=\"n\">i2_1_init</span><span class=\"p\">)</span>\n",
              "                        <span class=\"n\">T</span><span class=\"o\">.</span><span class=\"n\">reads</span><span class=\"p\">()</span>\n",
              "                        <span class=\"n\">T</span><span class=\"o\">.</span><span class=\"n\">writes</span><span class=\"p\">(</span><span class=\"n\">Y</span><span class=\"p\">[</span><span class=\"n\">n</span><span class=\"p\">,</span> <span class=\"n\">i</span><span class=\"p\">,</span> <span class=\"n\">j</span><span class=\"p\">])</span>\n",
              "                        <span class=\"n\">Y</span><span class=\"p\">[</span><span class=\"n\">n</span><span class=\"p\">,</span> <span class=\"n\">i</span><span class=\"p\">,</span> <span class=\"n\">j</span><span class=\"p\">]</span> <span class=\"o\">=</span> <span class=\"n\">T</span><span class=\"o\">.</span><span class=\"n\">float32</span><span class=\"p\">(</span><span class=\"mi\">0</span><span class=\"p\">)</span>\n",
              "                <span class=\"k\">for</span> <span class=\"n\">ax_0</span> <span class=\"ow\">in</span> <span class=\"n\">T</span><span class=\"o\">.</span><span class=\"n\">serial</span><span class=\"p\">(</span><span class=\"mi\">32</span><span class=\"p\">):</span>\n",
              "                    <span class=\"k\">for</span> <span class=\"n\">ax_1</span> <span class=\"ow\">in</span> <span class=\"n\">T</span><span class=\"o\">.</span><span class=\"n\">unroll</span><span class=\"p\">(</span><span class=\"mi\">4</span><span class=\"p\">):</span>\n",
              "                        <span class=\"k\">for</span> <span class=\"n\">i2_1</span> <span class=\"ow\">in</span> <span class=\"n\">T</span><span class=\"o\">.</span><span class=\"n\">serial</span><span class=\"p\">(</span><span class=\"mi\">8</span><span class=\"p\">):</span>\n",
              "                            <span class=\"k\">with</span> <span class=\"n\">T</span><span class=\"o\">.</span><span class=\"n\">block</span><span class=\"p\">(</span><span class=\"s2\">&quot;Y_update&quot;</span><span class=\"p\">):</span>\n",
              "                                <span class=\"n\">n</span><span class=\"p\">,</span> <span class=\"n\">i</span> <span class=\"o\">=</span> <span class=\"n\">T</span><span class=\"o\">.</span><span class=\"n\">axis</span><span class=\"o\">.</span><span class=\"n\">remap</span><span class=\"p\">(</span><span class=\"s2\">&quot;SS&quot;</span><span class=\"p\">,</span> <span class=\"p\">[</span><span class=\"n\">i0</span><span class=\"p\">,</span> <span class=\"n\">i1</span><span class=\"p\">])</span>\n",
              "                                <span class=\"n\">j</span> <span class=\"o\">=</span> <span class=\"n\">T</span><span class=\"o\">.</span><span class=\"n\">axis</span><span class=\"o\">.</span><span class=\"n\">spatial</span><span class=\"p\">(</span><span class=\"mi\">128</span><span class=\"p\">,</span> <span class=\"n\">i2_0</span> <span class=\"o\">*</span> <span class=\"mi\">8</span> <span class=\"o\">+</span> <span class=\"n\">i2_1</span><span class=\"p\">)</span>\n",
              "                                <span class=\"n\">k</span> <span class=\"o\">=</span> <span class=\"n\">T</span><span class=\"o\">.</span><span class=\"n\">axis</span><span class=\"o\">.</span><span class=\"n\">reduce</span><span class=\"p\">(</span><span class=\"mi\">128</span><span class=\"p\">,</span> <span class=\"n\">ax_0</span> <span class=\"o\">*</span> <span class=\"mi\">4</span> <span class=\"o\">+</span> <span class=\"n\">ax_1</span><span class=\"p\">)</span>\n",
              "                                <span class=\"n\">T</span><span class=\"o\">.</span><span class=\"n\">reads</span><span class=\"p\">(</span><span class=\"n\">Y</span><span class=\"p\">[</span><span class=\"n\">n</span><span class=\"p\">,</span> <span class=\"n\">i</span><span class=\"p\">,</span> <span class=\"n\">j</span><span class=\"p\">],</span> <span class=\"n\">A</span><span class=\"p\">[</span><span class=\"n\">n</span><span class=\"p\">,</span> <span class=\"n\">i</span><span class=\"p\">,</span> <span class=\"n\">k</span><span class=\"p\">],</span> <span class=\"n\">B</span><span class=\"p\">[</span><span class=\"n\">n</span><span class=\"p\">,</span> <span class=\"n\">k</span><span class=\"p\">,</span> <span class=\"n\">j</span><span class=\"p\">])</span>\n",
              "                                <span class=\"n\">T</span><span class=\"o\">.</span><span class=\"n\">writes</span><span class=\"p\">(</span><span class=\"n\">Y</span><span class=\"p\">[</span><span class=\"n\">n</span><span class=\"p\">,</span> <span class=\"n\">i</span><span class=\"p\">,</span> <span class=\"n\">j</span><span class=\"p\">])</span>\n",
              "                                <span class=\"n\">Y</span><span class=\"p\">[</span><span class=\"n\">n</span><span class=\"p\">,</span> <span class=\"n\">i</span><span class=\"p\">,</span> <span class=\"n\">j</span><span class=\"p\">]</span> <span class=\"o\">=</span> <span class=\"n\">Y</span><span class=\"p\">[</span><span class=\"n\">n</span><span class=\"p\">,</span> <span class=\"n\">i</span><span class=\"p\">,</span> <span class=\"n\">j</span><span class=\"p\">]</span> <span class=\"o\">+</span> <span class=\"n\">A</span><span class=\"p\">[</span><span class=\"n\">n</span><span class=\"p\">,</span> <span class=\"n\">i</span><span class=\"p\">,</span> <span class=\"n\">k</span><span class=\"p\">]</span> <span class=\"o\">*</span> <span class=\"n\">B</span><span class=\"p\">[</span><span class=\"n\">n</span><span class=\"p\">,</span> <span class=\"n\">k</span><span class=\"p\">,</span> <span class=\"n\">j</span><span class=\"p\">]</span>\n",
              "                <span class=\"k\">for</span> <span class=\"n\">ax0</span> <span class=\"ow\">in</span> <span class=\"n\">T</span><span class=\"o\">.</span><span class=\"n\">vectorized</span><span class=\"p\">(</span><span class=\"mi\">8</span><span class=\"p\">):</span>\n",
              "                    <span class=\"k\">with</span> <span class=\"n\">T</span><span class=\"o\">.</span><span class=\"n\">block</span><span class=\"p\">(</span><span class=\"s2\">&quot;C&quot;</span><span class=\"p\">):</span>\n",
              "                        <span class=\"n\">n</span><span class=\"p\">,</span> <span class=\"n\">i</span> <span class=\"o\">=</span> <span class=\"n\">T</span><span class=\"o\">.</span><span class=\"n\">axis</span><span class=\"o\">.</span><span class=\"n\">remap</span><span class=\"p\">(</span><span class=\"s2\">&quot;SS&quot;</span><span class=\"p\">,</span> <span class=\"p\">[</span><span class=\"n\">i0</span><span class=\"p\">,</span> <span class=\"n\">i1</span><span class=\"p\">])</span>\n",
              "                        <span class=\"n\">j</span> <span class=\"o\">=</span> <span class=\"n\">T</span><span class=\"o\">.</span><span class=\"n\">axis</span><span class=\"o\">.</span><span class=\"n\">spatial</span><span class=\"p\">(</span><span class=\"mi\">128</span><span class=\"p\">,</span> <span class=\"n\">i2_0</span> <span class=\"o\">*</span> <span class=\"mi\">8</span> <span class=\"o\">+</span> <span class=\"n\">ax0</span><span class=\"p\">)</span>\n",
              "                        <span class=\"n\">T</span><span class=\"o\">.</span><span class=\"n\">reads</span><span class=\"p\">(</span><span class=\"n\">Y</span><span class=\"p\">[</span><span class=\"n\">n</span><span class=\"p\">,</span> <span class=\"n\">i</span><span class=\"p\">,</span> <span class=\"n\">j</span><span class=\"p\">])</span>\n",
              "                        <span class=\"n\">T</span><span class=\"o\">.</span><span class=\"n\">writes</span><span class=\"p\">(</span><span class=\"n\">C</span><span class=\"p\">[</span><span class=\"n\">n</span><span class=\"p\">,</span> <span class=\"n\">i</span><span class=\"p\">,</span> <span class=\"n\">j</span><span class=\"p\">])</span>\n",
              "                        <span class=\"n\">C</span><span class=\"p\">[</span><span class=\"n\">n</span><span class=\"p\">,</span> <span class=\"n\">i</span><span class=\"p\">,</span> <span class=\"n\">j</span><span class=\"p\">]</span> <span class=\"o\">=</span> <span class=\"n\">T</span><span class=\"o\">.</span><span class=\"n\">max</span><span class=\"p\">(</span><span class=\"n\">Y</span><span class=\"p\">[</span><span class=\"n\">n</span><span class=\"p\">,</span> <span class=\"n\">i</span><span class=\"p\">,</span> <span class=\"n\">j</span><span class=\"p\">],</span> <span class=\"n\">T</span><span class=\"o\">.</span><span class=\"n\">float32</span><span class=\"p\">(</span><span class=\"mi\">0</span><span class=\"p\">))</span>\n",
              "    \n",
              "</pre></div>\n",
              "\n"
            ]
          },
          "metadata": {},
          "execution_count": 73
        }
      ]
    },
    {
      "cell_type": "markdown",
      "source": [
        "构建和评估"
      ],
      "metadata": {
        "id": "xrhYtvpa9cFT"
      }
    },
    {
      "cell_type": "code",
      "source": [
        "before_rt_lib =  tvm.build(MyBmmRelu, target=\"llvm\")\n",
        "after_rt_lib = tvm.build(sch.mod, target = \"llvm\")\n",
        "a_tvm = tvm.nd.array(np.random.rand(16, 128, 128).astype(\"float32\"))\n",
        "b_tvm = tvm.nd.array(np.random.rand(16, 128, 128).astype(\"float32\"))\n",
        "c_tvm = tvm.nd.array(np.empty((16, 128, 128), dtype=np.float32))\n",
        "\n",
        "before_timer = before_rt_lib.time_evaluator(\"bmm_relu\", tvm.cpu())\n",
        "print(\"Before transformation:\")\n",
        "print(before_timer(a_tvm, b_tvm, c_tvm))\n",
        "\n",
        "f_timer = after_rt_lib.time_evaluator(\"bmm_relu\", tvm.cpu())\n",
        "print(\"After transformation:\")\n",
        "print(f_timer(a_tvm, b_tvm, c_tvm))\n"
      ],
      "metadata": {
        "colab": {
          "base_uri": "https://localhost:8080/"
        },
        "id": "j2U_3BKV9fUF",
        "outputId": "f9f60402-b69a-4c30-f1f1-8b879ecf9871"
      },
      "execution_count": 79,
      "outputs": [
        {
          "output_type": "stream",
          "name": "stdout",
          "text": [
            "Before transformation:\n",
            "Execution time summary:\n",
            " mean (ms)   median (ms)    max (ms)     min (ms)     std (ms)  \n",
            "  74.1253      74.1253      74.1253      74.1253       0.0000   \n",
            "               \n",
            "After transformation:\n",
            "Execution time summary:\n",
            " mean (ms)   median (ms)    max (ms)     min (ms)     std (ms)  \n",
            "  14.7466      14.7466      14.7466      14.7466       0.0000   \n",
            "               \n"
          ]
        }
      ]
    },
    {
      "cell_type": "code",
      "source": [
        "print(sch.trace)"
      ],
      "metadata": {
        "colab": {
          "base_uri": "https://localhost:8080/"
        },
        "id": "5EPq-hZS93-7",
        "outputId": "8f528dca-db57-4f4d-9f3a-3f808a78c1b3"
      },
      "execution_count": 77,
      "outputs": [
        {
          "output_type": "stream",
          "name": "stdout",
          "text": [
            "b0 = sch.get_block(name=\"Y\", func_name=\"bmm_relu\")\n",
            "l1, l2, l3, l4 = sch.get_loops(block=b0)\n",
            "l5, l6 = sch.split(loop=l3, factors=[None, 8], preserve_unit_iters=True)\n",
            "l7, l8 = sch.split(loop=l4, factors=[None, 4], preserve_unit_iters=True)\n",
            "sch.reorder(l7, l8, l6)\n",
            "sch.parallel(loop=l1)\n",
            "b9 = sch.decompose_reduction(block=b0, loop=l7)\n",
            "b10 = sch.get_block(name=\"C\", func_name=\"bmm_relu\")\n",
            "sch.reverse_compute_at(block=b10, loop=l5, preserve_unit_loops=False)\n",
            "b11 = sch.get_block(name=\"Y_init\", func_name=\"bmm_relu\")\n",
            "l12, l13, l14, l15 = sch.get_loops(block=b11)\n",
            "sch.vectorize(loop=l15)\n",
            "b16 = sch.get_block(name=\"C\", func_name=\"bmm_relu\")\n",
            "l17, l18, l19, l20 = sch.get_loops(block=b16)\n",
            "sch.vectorize(loop=l20)\n",
            "sch.unroll(loop=l8)\n"
          ]
        }
      ]
    }
  ]
}