{
  "nbformat": 4,
  "nbformat_minor": 0,
  "metadata": {
    "colab": {
      "name": "Untitled2.ipynb",
      "provenance": [],
      "authorship_tag": "ABX9TyPAsFTu5c2fnHRzMclPzzzm",
      "include_colab_link": true
    },
    "kernelspec": {
      "name": "python3",
      "display_name": "Python 3"
    },
    "language_info": {
      "name": "python"
    }
  },
  "cells": [
    {
      "cell_type": "markdown",
      "metadata": {
        "id": "view-in-github",
        "colab_type": "text"
      },
      "source": [
        "<a href=\"https://colab.research.google.com/github/quxiaojing1985/OpenSearch/blob/main/MyConv.ipynb\" target=\"_parent\"><img src=\"https://colab.research.google.com/assets/colab-badge.svg\" alt=\"Open In Colab\"/></a>"
      ]
    },
    {
      "cell_type": "code",
      "execution_count": 1,
      "metadata": {
        "colab": {
          "base_uri": "https://localhost:8080/"
        },
        "id": "-kbMoTptq-qA",
        "outputId": "d082a4d3-e155-468e-ba05-b34f5e2b64ab"
      },
      "outputs": [
        {
          "output_type": "stream",
          "name": "stdout",
          "text": [
            "Looking in indexes: https://pypi.org/simple, https://us-python.pkg.dev/colab-wheels/public/simple/\n",
            "Looking in links: https://mlc.ai/wheels\n",
            "Collecting mlc-ai-nightly\n",
            "  Downloading https://github.com/mlc-ai/utils/releases/download/v0.9.dev0/mlc_ai_nightly-0.9.dev1956%2Bge3f218d71-cp37-cp37m-manylinux_2_17_x86_64.manylinux2014_x86_64.whl (44.2 MB)\n",
            "\u001b[K     |████████████████████████████████| 44.2 MB 1.8 MB/s \n",
            "\u001b[?25hRequirement already satisfied: cloudpickle in /usr/local/lib/python3.7/dist-packages (from mlc-ai-nightly) (1.3.0)\n",
            "Requirement already satisfied: psutil in /usr/local/lib/python3.7/dist-packages (from mlc-ai-nightly) (5.4.8)\n",
            "Requirement already satisfied: attrs in /usr/local/lib/python3.7/dist-packages (from mlc-ai-nightly) (22.1.0)\n",
            "Requirement already satisfied: scipy in /usr/local/lib/python3.7/dist-packages (from mlc-ai-nightly) (1.7.3)\n",
            "Requirement already satisfied: Pygments in /usr/local/lib/python3.7/dist-packages (from mlc-ai-nightly) (2.6.1)\n",
            "Requirement already satisfied: decorator in /usr/local/lib/python3.7/dist-packages (from mlc-ai-nightly) (4.4.2)\n",
            "Requirement already satisfied: numpy in /usr/local/lib/python3.7/dist-packages (from mlc-ai-nightly) (1.21.6)\n",
            "Collecting synr==0.6.0\n",
            "  Downloading synr-0.6.0-py3-none-any.whl (18 kB)\n",
            "Requirement already satisfied: tornado in /usr/local/lib/python3.7/dist-packages (from mlc-ai-nightly) (5.1.1)\n",
            "Installing collected packages: synr, mlc-ai-nightly\n",
            "Successfully installed mlc-ai-nightly-0.9.dev1956+ge3f218d71 synr-0.6.0\n"
          ]
        }
      ],
      "source": [
        "!python3 -m  pip install mlc-ai-nightly -f https://mlc.ai/wheels"
      ]
    },
    {
      "cell_type": "code",
      "source": [
        "import tvm\n",
        "from tvm.ir.module import IRModule\n",
        "from tvm.script import tir as T\n",
        "import numpy as np"
      ],
      "metadata": {
        "id": "305ifCzGrAn5"
      },
      "execution_count": 2,
      "outputs": []
    },
    {
      "cell_type": "code",
      "source": [
        "N, CI, H, W, CO, K = 1, 1, 8, 8, 2, 3\n",
        "OUT_H, OUT_W = H - K +1, W - K + 1\n",
        "data =  np.arange(N*CI*H*W).reshape(N, CI, H, W)\n",
        "Weight = np.arange(CO*CI*K*K).reshape(CO, CI, K, K)\n",
        "print(data)"
      ],
      "metadata": {
        "colab": {
          "base_uri": "https://localhost:8080/"
        },
        "id": "hM6dB-ZrrCVg",
        "outputId": "e50156ae-9ca9-4a3f-b005-0c3d0f76fcc7"
      },
      "execution_count": 3,
      "outputs": [
        {
          "output_type": "stream",
          "name": "stdout",
          "text": [
            "[[[[ 0  1  2  3  4  5  6  7]\n",
            "   [ 8  9 10 11 12 13 14 15]\n",
            "   [16 17 18 19 20 21 22 23]\n",
            "   [24 25 26 27 28 29 30 31]\n",
            "   [32 33 34 35 36 37 38 39]\n",
            "   [40 41 42 43 44 45 46 47]\n",
            "   [48 49 50 51 52 53 54 55]\n",
            "   [56 57 58 59 60 61 62 63]]]]\n"
          ]
        }
      ]
    },
    {
      "cell_type": "code",
      "source": [
        "import torch\n",
        "data_torch = torch.Tensor(data)\n",
        "weight_torch =  torch.Tensor(Weight)\n",
        "conv_torch =  torch.nn.functional.conv2d(data_torch, weight_torch)\n",
        "conv_torch = conv_torch.numpy().astype(np.int64)\n",
        "conv_torch"
      ],
      "metadata": {
        "colab": {
          "base_uri": "https://localhost:8080/"
        },
        "id": "u2fveALsrKeH",
        "outputId": "c8bce897-2949-4cf2-bb48-cd2b1c5e84dc"
      },
      "execution_count": 4,
      "outputs": [
        {
          "output_type": "execute_result",
          "data": {
            "text/plain": [
              "array([[[[ 474,  510,  546,  582,  618,  654],\n",
              "         [ 762,  798,  834,  870,  906,  942],\n",
              "         [1050, 1086, 1122, 1158, 1194, 1230],\n",
              "         [1338, 1374, 1410, 1446, 1482, 1518],\n",
              "         [1626, 1662, 1698, 1734, 1770, 1806],\n",
              "         [1914, 1950, 1986, 2022, 2058, 2094]],\n",
              "\n",
              "        [[1203, 1320, 1437, 1554, 1671, 1788],\n",
              "         [2139, 2256, 2373, 2490, 2607, 2724],\n",
              "         [3075, 3192, 3309, 3426, 3543, 3660],\n",
              "         [4011, 4128, 4245, 4362, 4479, 4596],\n",
              "         [4947, 5064, 5181, 5298, 5415, 5532],\n",
              "         [5883, 6000, 6117, 6234, 6351, 6468]]]])"
            ]
          },
          "metadata": {},
          "execution_count": 4
        }
      ]
    },
    {
      "cell_type": "code",
      "source": [
        "@tvm.script.ir_module\n",
        "class MyConv:\n",
        "  @T.prim_func\n",
        "  def conv(D: T.Buffer[(1, 1, 8, 8), \"int64\"],\n",
        "           W: T.Buffer[(2, 1, 3, 3), \"int64\"],\n",
        "           C: T.Buffer[(1, 2, 6, 6), \"int64\"]):\n",
        "    T.func_attr({\"global_symbol\": \"conv\", \"tir.noalias\" : True})\n",
        "    for b, k, i, j, q, di, dj in T.grid(1, 2, 6, 6, 1, 3, 3):\n",
        "      with T.block(\"C\"):\n",
        "        vb, vk, vi, vj, vq, vdi, vdj = T.axis.remap(\"SSSSRRR\", [b, k, i, j, q, di, dj])\n",
        "        with T.init():\n",
        "          C[vb, vk, vi, vj] = T.int64(0)\n",
        "        C[vb, vk, vi, vj] = C[vb, vk, vi, vj] + D[vb, vq, vi+vdi, j +vdj] * W[vk, vq, vdi, vdj]"
      ],
      "metadata": {
        "id": "Hpf4MFHnrMmo"
      },
      "execution_count": 5,
      "outputs": []
    },
    {
      "cell_type": "code",
      "source": [
        "rt_lib = tvm.build(MyConv, target=\"llvm\")\n",
        "data_tvm = tvm.nd.array(data)\n",
        "weight_tvm = tvm.nd.array(Weight)\n",
        "conv_tvm = tvm.nd.array(np.empty((N, CO, OUT_H, OUT_W), dtype=np.int64))\n",
        "rt_lib[\"conv\"](data_tvm, weight_tvm, conv_tvm)\n",
        "np.testing.assert_allclose(conv_tvm.numpy(), conv_torch, rtol=1e-5)\n",
        "print(conv_tvm)"
      ],
      "metadata": {
        "colab": {
          "base_uri": "https://localhost:8080/"
        },
        "id": "p9cWsCDbrO2c",
        "outputId": "29a8f16a-8552-4cb7-9110-3ff24337005c"
      },
      "execution_count": 6,
      "outputs": [
        {
          "output_type": "stream",
          "name": "stdout",
          "text": [
            "[[[[ 474  510  546  582  618  654]\n",
            "   [ 762  798  834  870  906  942]\n",
            "   [1050 1086 1122 1158 1194 1230]\n",
            "   [1338 1374 1410 1446 1482 1518]\n",
            "   [1626 1662 1698 1734 1770 1806]\n",
            "   [1914 1950 1986 2022 2058 2094]]\n",
            "\n",
            "  [[1203 1320 1437 1554 1671 1788]\n",
            "   [2139 2256 2373 2490 2607 2724]\n",
            "   [3075 3192 3309 3426 3543 3660]\n",
            "   [4011 4128 4245 4362 4479 4596]\n",
            "   [4947 5064 5181 5298 5415 5532]\n",
            "   [5883 6000 6117 6234 6351 6468]]]]\n"
          ]
        }
      ]
    }
  ]
}